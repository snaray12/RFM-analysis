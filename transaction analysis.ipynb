{
 "cells": [
  {
   "cell_type": "code",
   "execution_count": 1,
   "metadata": {},
   "outputs": [],
   "source": [
    "import pandas as pd\n",
    "import numpy as np\n",
    "import seaborn as sns\n",
    "from zipfile import ZipFile\n",
    "import datetime"
   ]
  },
  {
   "cell_type": "code",
   "execution_count": 2,
   "metadata": {},
   "outputs": [],
   "source": [
    "import matplotlib.pyplot as plt"
   ]
  },
  {
   "cell_type": "code",
   "execution_count": 3,
   "metadata": {},
   "outputs": [],
   "source": [
    "file=\"trans_simulated.zip\""
   ]
  },
  {
   "cell_type": "code",
   "execution_count": 4,
   "metadata": {},
   "outputs": [],
   "source": [
    "fname = 'transaction_data_v4.csv'"
   ]
  },
  {
   "cell_type": "code",
   "execution_count": 5,
   "metadata": {},
   "outputs": [],
   "source": [
    "archive = ZipFile(file, 'r')"
   ]
  },
  {
   "cell_type": "code",
   "execution_count": 6,
   "metadata": {},
   "outputs": [
    {
     "name": "stdout",
     "output_type": "stream",
     "text": [
      "<ZipInfo filename='transaction_data_v4.csv' compress_type=deflate filemode='-rw-rw-r--' file_size=102826571 compress_size=6332475>\n"
     ]
    }
   ],
   "source": [
    "for finfo in archive.infolist():\n",
    "    print(finfo)"
   ]
  },
  {
   "cell_type": "code",
   "execution_count": 7,
   "metadata": {},
   "outputs": [],
   "source": [
    "df = pd.read_csv(archive.open(fname), encoding = \"ISO-8859-1\", parse_dates=['txn_date'])"
   ]
  },
  {
   "cell_type": "code",
   "execution_count": 8,
   "metadata": {},
   "outputs": [
    {
     "data": {
      "text/plain": [
       "(1048575, 9)"
      ]
     },
     "execution_count": 8,
     "metadata": {},
     "output_type": "execute_result"
    }
   ],
   "source": [
    "df.shape"
   ]
  },
  {
   "cell_type": "code",
   "execution_count": 9,
   "metadata": {},
   "outputs": [
    {
     "data": {
      "text/html": [
       "<div>\n",
       "<style scoped>\n",
       "    .dataframe tbody tr th:only-of-type {\n",
       "        vertical-align: middle;\n",
       "    }\n",
       "\n",
       "    .dataframe tbody tr th {\n",
       "        vertical-align: top;\n",
       "    }\n",
       "\n",
       "    .dataframe thead th {\n",
       "        text-align: right;\n",
       "    }\n",
       "</style>\n",
       "<table border=\"1\" class=\"dataframe\">\n",
       "  <thead>\n",
       "    <tr style=\"text-align: right;\">\n",
       "      <th></th>\n",
       "      <th>customerId</th>\n",
       "      <th>MCC</th>\n",
       "      <th>local_amount</th>\n",
       "      <th>finalmerchid</th>\n",
       "      <th>cleaned_merchant_name</th>\n",
       "      <th>cleaned_merchant_name.1</th>\n",
       "      <th>city</th>\n",
       "      <th>country</th>\n",
       "      <th>txn_date</th>\n",
       "    </tr>\n",
       "  </thead>\n",
       "  <tbody>\n",
       "    <tr>\n",
       "      <th>0</th>\n",
       "      <td>B01A04153D</td>\n",
       "      <td>5462</td>\n",
       "      <td>23</td>\n",
       "      <td>300034089</td>\n",
       "      <td>Jumbo Seafood Riverside</td>\n",
       "      <td>Jumbo Seafood Riverside</td>\n",
       "      <td>Singapore</td>\n",
       "      <td>Singapore</td>\n",
       "      <td>2016-10-01</td>\n",
       "    </tr>\n",
       "    <tr>\n",
       "      <th>1</th>\n",
       "      <td>B01A02172D</td>\n",
       "      <td>5462</td>\n",
       "      <td>33</td>\n",
       "      <td>300034089</td>\n",
       "      <td>Jumbo Seafood Riverside</td>\n",
       "      <td>Jumbo Seafood Riverside</td>\n",
       "      <td>Singapore</td>\n",
       "      <td>Singapore</td>\n",
       "      <td>2016-01-20</td>\n",
       "    </tr>\n",
       "    <tr>\n",
       "      <th>2</th>\n",
       "      <td>B01A06504D</td>\n",
       "      <td>5462</td>\n",
       "      <td>25</td>\n",
       "      <td>300034089</td>\n",
       "      <td>Jumbo Seafood Riverside</td>\n",
       "      <td>Jumbo Seafood Riverside</td>\n",
       "      <td>Singapore</td>\n",
       "      <td>Singapore</td>\n",
       "      <td>2016-01-20</td>\n",
       "    </tr>\n",
       "    <tr>\n",
       "      <th>3</th>\n",
       "      <td>B02A01824D</td>\n",
       "      <td>5462</td>\n",
       "      <td>108</td>\n",
       "      <td>300034089</td>\n",
       "      <td>Jumbo Seafood Riverside</td>\n",
       "      <td>Jumbo Seafood Riverside</td>\n",
       "      <td>Singapore</td>\n",
       "      <td>Singapore</td>\n",
       "      <td>2016-01-15</td>\n",
       "    </tr>\n",
       "    <tr>\n",
       "      <th>4</th>\n",
       "      <td>B02A05662D</td>\n",
       "      <td>5462</td>\n",
       "      <td>9</td>\n",
       "      <td>300034089</td>\n",
       "      <td>Jumbo Seafood Riverside</td>\n",
       "      <td>Jumbo Seafood Riverside</td>\n",
       "      <td>Singapore</td>\n",
       "      <td>Singapore</td>\n",
       "      <td>2016-01-13</td>\n",
       "    </tr>\n",
       "  </tbody>\n",
       "</table>\n",
       "</div>"
      ],
      "text/plain": [
       "   customerId   MCC  local_amount  finalmerchid    cleaned_merchant_name  \\\n",
       "0  B01A04153D  5462            23     300034089  Jumbo Seafood Riverside   \n",
       "1  B01A02172D  5462            33     300034089  Jumbo Seafood Riverside   \n",
       "2  B01A06504D  5462            25     300034089  Jumbo Seafood Riverside   \n",
       "3  B02A01824D  5462           108     300034089  Jumbo Seafood Riverside   \n",
       "4  B02A05662D  5462             9     300034089  Jumbo Seafood Riverside   \n",
       "\n",
       "   cleaned_merchant_name.1       city    country   txn_date  \n",
       "0  Jumbo Seafood Riverside  Singapore  Singapore 2016-10-01  \n",
       "1  Jumbo Seafood Riverside  Singapore  Singapore 2016-01-20  \n",
       "2  Jumbo Seafood Riverside  Singapore  Singapore 2016-01-20  \n",
       "3  Jumbo Seafood Riverside  Singapore  Singapore 2016-01-15  \n",
       "4  Jumbo Seafood Riverside  Singapore  Singapore 2016-01-13  "
      ]
     },
     "execution_count": 9,
     "metadata": {},
     "output_type": "execute_result"
    }
   ],
   "source": [
    "df.head()"
   ]
  },
  {
   "cell_type": "code",
   "execution_count": 10,
   "metadata": {},
   "outputs": [],
   "source": [
    "NOW = datetime.datetime.now()"
   ]
  },
  {
   "cell_type": "code",
   "execution_count": 11,
   "metadata": {},
   "outputs": [],
   "source": [
    "rfmTable = df.groupby('customerId').agg({\"local_amount\":np.sum, \n",
    "                                         \"finalmerchid\":'count', \n",
    "                                         \"txn_date\":lambda x: (NOW - x.max()).days})"
   ]
  },
  {
   "cell_type": "code",
   "execution_count": 12,
   "metadata": {},
   "outputs": [
    {
     "data": {
      "text/html": [
       "<div>\n",
       "<style scoped>\n",
       "    .dataframe tbody tr th:only-of-type {\n",
       "        vertical-align: middle;\n",
       "    }\n",
       "\n",
       "    .dataframe tbody tr th {\n",
       "        vertical-align: top;\n",
       "    }\n",
       "\n",
       "    .dataframe thead th {\n",
       "        text-align: right;\n",
       "    }\n",
       "</style>\n",
       "<table border=\"1\" class=\"dataframe\">\n",
       "  <thead>\n",
       "    <tr style=\"text-align: right;\">\n",
       "      <th></th>\n",
       "      <th>local_amount</th>\n",
       "      <th>finalmerchid</th>\n",
       "      <th>txn_date</th>\n",
       "    </tr>\n",
       "    <tr>\n",
       "      <th>customerId</th>\n",
       "      <th></th>\n",
       "      <th></th>\n",
       "      <th></th>\n",
       "    </tr>\n",
       "  </thead>\n",
       "  <tbody>\n",
       "    <tr>\n",
       "      <th>B01A00001D</th>\n",
       "      <td>8662</td>\n",
       "      <td>57</td>\n",
       "      <td>1002</td>\n",
       "    </tr>\n",
       "    <tr>\n",
       "      <th>B01A00002D</th>\n",
       "      <td>1946</td>\n",
       "      <td>33</td>\n",
       "      <td>960</td>\n",
       "    </tr>\n",
       "    <tr>\n",
       "      <th>B01A00003D</th>\n",
       "      <td>1364</td>\n",
       "      <td>32</td>\n",
       "      <td>961</td>\n",
       "    </tr>\n",
       "    <tr>\n",
       "      <th>B01A00004D</th>\n",
       "      <td>4656</td>\n",
       "      <td>36</td>\n",
       "      <td>972</td>\n",
       "    </tr>\n",
       "    <tr>\n",
       "      <th>B01A00005D</th>\n",
       "      <td>3054</td>\n",
       "      <td>34</td>\n",
       "      <td>964</td>\n",
       "    </tr>\n",
       "  </tbody>\n",
       "</table>\n",
       "</div>"
      ],
      "text/plain": [
       "            local_amount  finalmerchid  txn_date\n",
       "customerId                                      \n",
       "B01A00001D          8662            57      1002\n",
       "B01A00002D          1946            33       960\n",
       "B01A00003D          1364            32       961\n",
       "B01A00004D          4656            36       972\n",
       "B01A00005D          3054            34       964"
      ]
     },
     "execution_count": 12,
     "metadata": {},
     "output_type": "execute_result"
    }
   ],
   "source": [
    "rfmTable.head()"
   ]
  },
  {
   "cell_type": "code",
   "execution_count": 13,
   "metadata": {},
   "outputs": [],
   "source": [
    "rfmTable.rename(columns={'txn_date': 'recency', \n",
    "                         'finalmerchid': 'frequency', \n",
    "                         'local_amount': 'monetary_value'}, inplace=True)"
   ]
  },
  {
   "cell_type": "code",
   "execution_count": 14,
   "metadata": {},
   "outputs": [],
   "source": [
    "quantiles = rfmTable.quantile(q=[0.25,0.5,0.75])\n",
    "quantiles = quantiles.to_dict()"
   ]
  },
  {
   "cell_type": "code",
   "execution_count": 15,
   "metadata": {},
   "outputs": [],
   "source": [
    "segmented_rfm = rfmTable"
   ]
  },
  {
   "cell_type": "code",
   "execution_count": 16,
   "metadata": {},
   "outputs": [],
   "source": [
    "def RScore(x,p,d):\n",
    "    if x <= d[p][0.25]:\n",
    "        return 1\n",
    "    elif x <= d[p][0.50]:\n",
    "        return 2\n",
    "    elif x <= d[p][0.75]: \n",
    "        return 3\n",
    "    else:\n",
    "        return 4\n",
    "    \n",
    "def FMScore(x,p,d):\n",
    "    if x <= d[p][0.25]:\n",
    "        return 4\n",
    "    elif x <= d[p][0.50]:\n",
    "        return 3\n",
    "    elif x <= d[p][0.75]: \n",
    "        return 2\n",
    "    else:\n",
    "        return 1"
   ]
  },
  {
   "cell_type": "code",
   "execution_count": 17,
   "metadata": {},
   "outputs": [],
   "source": [
    "segmented_rfm['r_quartile'] = segmented_rfm['recency'].apply(RScore, args=('recency',quantiles,))\n",
    "segmented_rfm['f_quartile'] = segmented_rfm['frequency'].apply(FMScore, args=('frequency',quantiles,))\n",
    "segmented_rfm['m_quartile'] = segmented_rfm['monetary_value'].apply(FMScore, args=('monetary_value',quantiles,))"
   ]
  },
  {
   "cell_type": "code",
   "execution_count": 18,
   "metadata": {},
   "outputs": [
    {
     "data": {
      "text/html": [
       "<div>\n",
       "<style scoped>\n",
       "    .dataframe tbody tr th:only-of-type {\n",
       "        vertical-align: middle;\n",
       "    }\n",
       "\n",
       "    .dataframe tbody tr th {\n",
       "        vertical-align: top;\n",
       "    }\n",
       "\n",
       "    .dataframe thead th {\n",
       "        text-align: right;\n",
       "    }\n",
       "</style>\n",
       "<table border=\"1\" class=\"dataframe\">\n",
       "  <thead>\n",
       "    <tr style=\"text-align: right;\">\n",
       "      <th></th>\n",
       "      <th>monetary_value</th>\n",
       "      <th>frequency</th>\n",
       "      <th>recency</th>\n",
       "      <th>r_quartile</th>\n",
       "      <th>f_quartile</th>\n",
       "      <th>m_quartile</th>\n",
       "    </tr>\n",
       "    <tr>\n",
       "      <th>customerId</th>\n",
       "      <th></th>\n",
       "      <th></th>\n",
       "      <th></th>\n",
       "      <th></th>\n",
       "      <th></th>\n",
       "      <th></th>\n",
       "    </tr>\n",
       "  </thead>\n",
       "  <tbody>\n",
       "    <tr>\n",
       "      <th>B01A00001D</th>\n",
       "      <td>8662</td>\n",
       "      <td>57</td>\n",
       "      <td>1002</td>\n",
       "      <td>4</td>\n",
       "      <td>1</td>\n",
       "      <td>1</td>\n",
       "    </tr>\n",
       "    <tr>\n",
       "      <th>B01A00002D</th>\n",
       "      <td>1946</td>\n",
       "      <td>33</td>\n",
       "      <td>960</td>\n",
       "      <td>1</td>\n",
       "      <td>1</td>\n",
       "      <td>2</td>\n",
       "    </tr>\n",
       "    <tr>\n",
       "      <th>B01A00003D</th>\n",
       "      <td>1364</td>\n",
       "      <td>32</td>\n",
       "      <td>961</td>\n",
       "      <td>1</td>\n",
       "      <td>1</td>\n",
       "      <td>3</td>\n",
       "    </tr>\n",
       "    <tr>\n",
       "      <th>B01A00004D</th>\n",
       "      <td>4656</td>\n",
       "      <td>36</td>\n",
       "      <td>972</td>\n",
       "      <td>2</td>\n",
       "      <td>1</td>\n",
       "      <td>1</td>\n",
       "    </tr>\n",
       "    <tr>\n",
       "      <th>B01A00005D</th>\n",
       "      <td>3054</td>\n",
       "      <td>34</td>\n",
       "      <td>964</td>\n",
       "      <td>1</td>\n",
       "      <td>1</td>\n",
       "      <td>2</td>\n",
       "    </tr>\n",
       "  </tbody>\n",
       "</table>\n",
       "</div>"
      ],
      "text/plain": [
       "            monetary_value  frequency  recency  r_quartile  f_quartile  \\\n",
       "customerId                                                               \n",
       "B01A00001D            8662         57     1002           4           1   \n",
       "B01A00002D            1946         33      960           1           1   \n",
       "B01A00003D            1364         32      961           1           1   \n",
       "B01A00004D            4656         36      972           2           1   \n",
       "B01A00005D            3054         34      964           1           1   \n",
       "\n",
       "            m_quartile  \n",
       "customerId              \n",
       "B01A00001D           1  \n",
       "B01A00002D           2  \n",
       "B01A00003D           3  \n",
       "B01A00004D           1  \n",
       "B01A00005D           2  "
      ]
     },
     "execution_count": 18,
     "metadata": {},
     "output_type": "execute_result"
    }
   ],
   "source": [
    "segmented_rfm.head()"
   ]
  },
  {
   "cell_type": "code",
   "execution_count": 19,
   "metadata": {},
   "outputs": [],
   "source": [
    "segmented_rfm['RFMScore'] = segmented_rfm.r_quartile.map(str) \\\n",
    "                            + segmented_rfm.f_quartile.map(str) \\\n",
    "                            + segmented_rfm.m_quartile.map(str)"
   ]
  },
  {
   "cell_type": "code",
   "execution_count": 20,
   "metadata": {
    "scrolled": true
   },
   "outputs": [
    {
     "data": {
      "text/html": [
       "<div>\n",
       "<style scoped>\n",
       "    .dataframe tbody tr th:only-of-type {\n",
       "        vertical-align: middle;\n",
       "    }\n",
       "\n",
       "    .dataframe tbody tr th {\n",
       "        vertical-align: top;\n",
       "    }\n",
       "\n",
       "    .dataframe thead th {\n",
       "        text-align: right;\n",
       "    }\n",
       "</style>\n",
       "<table border=\"1\" class=\"dataframe\">\n",
       "  <thead>\n",
       "    <tr style=\"text-align: right;\">\n",
       "      <th></th>\n",
       "      <th>monetary_value</th>\n",
       "      <th>frequency</th>\n",
       "      <th>recency</th>\n",
       "      <th>r_quartile</th>\n",
       "      <th>f_quartile</th>\n",
       "      <th>m_quartile</th>\n",
       "      <th>RFMScore</th>\n",
       "    </tr>\n",
       "    <tr>\n",
       "      <th>customerId</th>\n",
       "      <th></th>\n",
       "      <th></th>\n",
       "      <th></th>\n",
       "      <th></th>\n",
       "      <th></th>\n",
       "      <th></th>\n",
       "      <th></th>\n",
       "    </tr>\n",
       "  </thead>\n",
       "  <tbody>\n",
       "    <tr>\n",
       "      <th>B01A00001D</th>\n",
       "      <td>8662</td>\n",
       "      <td>57</td>\n",
       "      <td>1002</td>\n",
       "      <td>4</td>\n",
       "      <td>1</td>\n",
       "      <td>1</td>\n",
       "      <td>411</td>\n",
       "    </tr>\n",
       "    <tr>\n",
       "      <th>B01A00002D</th>\n",
       "      <td>1946</td>\n",
       "      <td>33</td>\n",
       "      <td>960</td>\n",
       "      <td>1</td>\n",
       "      <td>1</td>\n",
       "      <td>2</td>\n",
       "      <td>112</td>\n",
       "    </tr>\n",
       "    <tr>\n",
       "      <th>B01A00003D</th>\n",
       "      <td>1364</td>\n",
       "      <td>32</td>\n",
       "      <td>961</td>\n",
       "      <td>1</td>\n",
       "      <td>1</td>\n",
       "      <td>3</td>\n",
       "      <td>113</td>\n",
       "    </tr>\n",
       "    <tr>\n",
       "      <th>B01A00004D</th>\n",
       "      <td>4656</td>\n",
       "      <td>36</td>\n",
       "      <td>972</td>\n",
       "      <td>2</td>\n",
       "      <td>1</td>\n",
       "      <td>1</td>\n",
       "      <td>211</td>\n",
       "    </tr>\n",
       "    <tr>\n",
       "      <th>B01A00005D</th>\n",
       "      <td>3054</td>\n",
       "      <td>34</td>\n",
       "      <td>964</td>\n",
       "      <td>1</td>\n",
       "      <td>1</td>\n",
       "      <td>2</td>\n",
       "      <td>112</td>\n",
       "    </tr>\n",
       "  </tbody>\n",
       "</table>\n",
       "</div>"
      ],
      "text/plain": [
       "            monetary_value  frequency  recency  r_quartile  f_quartile  \\\n",
       "customerId                                                               \n",
       "B01A00001D            8662         57     1002           4           1   \n",
       "B01A00002D            1946         33      960           1           1   \n",
       "B01A00003D            1364         32      961           1           1   \n",
       "B01A00004D            4656         36      972           2           1   \n",
       "B01A00005D            3054         34      964           1           1   \n",
       "\n",
       "            m_quartile RFMScore  \n",
       "customerId                       \n",
       "B01A00001D           1      411  \n",
       "B01A00002D           2      112  \n",
       "B01A00003D           3      113  \n",
       "B01A00004D           1      211  \n",
       "B01A00005D           2      112  "
      ]
     },
     "execution_count": 20,
     "metadata": {},
     "output_type": "execute_result"
    }
   ],
   "source": [
    "segmented_rfm.head()"
   ]
  },
  {
   "cell_type": "code",
   "execution_count": 21,
   "metadata": {},
   "outputs": [],
   "source": [
    "rfm_agg = segmented_rfm.groupby('RFMScore').agg({\"monetary_value\":np.sum, \"frequency\":np.sum, \"recency\":np.mean})"
   ]
  },
  {
   "cell_type": "code",
   "execution_count": 22,
   "metadata": {},
   "outputs": [],
   "source": [
    "rfm_agg.sort_values(by=\"monetary_value\", ascending=False, inplace=True)\n",
    "top_15 = rfm_agg"
   ]
  },
  {
   "cell_type": "code",
   "execution_count": 23,
   "metadata": {},
   "outputs": [],
   "source": [
    "top_15 = top_15.reset_index()"
   ]
  },
  {
   "cell_type": "code",
   "execution_count": 56,
   "metadata": {},
   "outputs": [],
   "source": [
    "def pareto_plot(df, x=None, y=None, title=None, show_pct_y=False, pct_format='{0:.0%}'):\n",
    "    xlabel = x\n",
    "    ylabel = y\n",
    "    tmp = df.sort_values(y, ascending=False)\n",
    "    x = tmp[x].values\n",
    "    y = tmp[y].values\n",
    "    weights = y / y.sum()\n",
    "    cumsum = weights.cumsum()\n",
    "    \n",
    "    fig, ax1 = plt.subplots(figsize=(20,5))\n",
    "    ax1.bar(x, y)\n",
    "    ax1.set_xlabel(xlabel)\n",
    "    ax1.set_ylabel(ylabel)\n",
    "\n",
    "    ax2 = ax1.twinx()\n",
    "    ax2.plot(x, cumsum, '-ro', alpha=0.5)\n",
    "    ax2.set_ylabel('', color='r')\n",
    "    ax2.tick_params('y', colors='r')\n",
    "    \n",
    "    vals = ax2.get_yticks()\n",
    "    ax2.set_yticklabels(['{:,.2%}'.format(x) for x in vals])\n",
    "\n",
    "    # hide y-labels on right side\n",
    "    if not show_pct_y:\n",
    "        ax2.set_yticks([])\n",
    "    \n",
    "    formatted_weights = [pct_format.format(x) for x in cumsum]\n",
    "    for i, txt in enumerate(formatted_weights):\n",
    "        if i%3 ==0:\n",
    "            ax2.annotate(txt, (x[i], cumsum[i]), fontweight='heavy')    \n",
    "    \n",
    "    if title:\n",
    "        plt.title(title)\n",
    "    \n",
    "    plt.tight_layout()\n",
    "    plt.show()"
   ]
  },
  {
   "cell_type": "code",
   "execution_count": 57,
   "metadata": {},
   "outputs": [
    {
     "data": {
      "image/png": "[encoded data removed]",
      "text/plain": [
       "<Figure size 1440x360 with 2 Axes>"
      ]
     },
     "metadata": {
      "needs_background": "light"
     },
     "output_type": "display_data"
    }
   ],
   "source": [
    "pareto_plot(top_15, x='RFMScore', y='monetary_value', title='Top 15 Monetary')"
   ]
  },
  {
   "cell_type": "code",
   "execution_count": 26,
   "metadata": {},
   "outputs": [],
   "source": [
    "profitable = ['111', '211', '311', '121', '441', '221', '321']"
   ]
  },
  {
   "cell_type": "code",
   "execution_count": 27,
   "metadata": {},
   "outputs": [],
   "source": [
    "segmented_rfm['profitable'] = 0"
   ]
  },
  {
   "cell_type": "code",
   "execution_count": 28,
   "metadata": {},
   "outputs": [],
   "source": [
    "segmented_rfm.loc[segmented_rfm['RFMScore'].isin(profitable), 'profitable'] = 1"
   ]
  },
  {
   "cell_type": "code",
   "execution_count": 29,
   "metadata": {},
   "outputs": [
    {
     "data": {
      "text/plain": [
       "0    41730\n",
       "1     8240\n",
       "Name: profitable, dtype: int64"
      ]
     },
     "execution_count": 29,
     "metadata": {},
     "output_type": "execute_result"
    }
   ],
   "source": [
    "segmented_rfm.profitable.value_counts()"
   ]
  },
  {
   "cell_type": "code",
   "execution_count": 30,
   "metadata": {},
   "outputs": [
    {
     "data": {
      "text/html": [
       "<div>\n",
       "<style scoped>\n",
       "    .dataframe tbody tr th:only-of-type {\n",
       "        vertical-align: middle;\n",
       "    }\n",
       "\n",
       "    .dataframe tbody tr th {\n",
       "        vertical-align: top;\n",
       "    }\n",
       "\n",
       "    .dataframe thead th {\n",
       "        text-align: right;\n",
       "    }\n",
       "</style>\n",
       "<table border=\"1\" class=\"dataframe\">\n",
       "  <thead>\n",
       "    <tr style=\"text-align: right;\">\n",
       "      <th></th>\n",
       "      <th>monetary_value</th>\n",
       "      <th>frequency</th>\n",
       "      <th>recency</th>\n",
       "      <th>r_quartile</th>\n",
       "      <th>f_quartile</th>\n",
       "      <th>m_quartile</th>\n",
       "      <th>RFMScore</th>\n",
       "      <th>profitable</th>\n",
       "    </tr>\n",
       "    <tr>\n",
       "      <th>customerId</th>\n",
       "      <th></th>\n",
       "      <th></th>\n",
       "      <th></th>\n",
       "      <th></th>\n",
       "      <th></th>\n",
       "      <th></th>\n",
       "      <th></th>\n",
       "      <th></th>\n",
       "    </tr>\n",
       "  </thead>\n",
       "  <tbody>\n",
       "    <tr>\n",
       "      <th>B01A00001D</th>\n",
       "      <td>8662</td>\n",
       "      <td>57</td>\n",
       "      <td>1002</td>\n",
       "      <td>4</td>\n",
       "      <td>1</td>\n",
       "      <td>1</td>\n",
       "      <td>411</td>\n",
       "      <td>0</td>\n",
       "    </tr>\n",
       "    <tr>\n",
       "      <th>B01A00002D</th>\n",
       "      <td>1946</td>\n",
       "      <td>33</td>\n",
       "      <td>960</td>\n",
       "      <td>1</td>\n",
       "      <td>1</td>\n",
       "      <td>2</td>\n",
       "      <td>112</td>\n",
       "      <td>0</td>\n",
       "    </tr>\n",
       "    <tr>\n",
       "      <th>B01A00003D</th>\n",
       "      <td>1364</td>\n",
       "      <td>32</td>\n",
       "      <td>961</td>\n",
       "      <td>1</td>\n",
       "      <td>1</td>\n",
       "      <td>3</td>\n",
       "      <td>113</td>\n",
       "      <td>0</td>\n",
       "    </tr>\n",
       "    <tr>\n",
       "      <th>B01A00004D</th>\n",
       "      <td>4656</td>\n",
       "      <td>36</td>\n",
       "      <td>972</td>\n",
       "      <td>2</td>\n",
       "      <td>1</td>\n",
       "      <td>1</td>\n",
       "      <td>211</td>\n",
       "      <td>1</td>\n",
       "    </tr>\n",
       "    <tr>\n",
       "      <th>B01A00005D</th>\n",
       "      <td>3054</td>\n",
       "      <td>34</td>\n",
       "      <td>964</td>\n",
       "      <td>1</td>\n",
       "      <td>1</td>\n",
       "      <td>2</td>\n",
       "      <td>112</td>\n",
       "      <td>0</td>\n",
       "    </tr>\n",
       "  </tbody>\n",
       "</table>\n",
       "</div>"
      ],
      "text/plain": [
       "            monetary_value  frequency  recency  r_quartile  f_quartile  \\\n",
       "customerId                                                               \n",
       "B01A00001D            8662         57     1002           4           1   \n",
       "B01A00002D            1946         33      960           1           1   \n",
       "B01A00003D            1364         32      961           1           1   \n",
       "B01A00004D            4656         36      972           2           1   \n",
       "B01A00005D            3054         34      964           1           1   \n",
       "\n",
       "            m_quartile RFMScore  profitable  \n",
       "customerId                                   \n",
       "B01A00001D           1      411           0  \n",
       "B01A00002D           2      112           0  \n",
       "B01A00003D           3      113           0  \n",
       "B01A00004D           1      211           1  \n",
       "B01A00005D           2      112           0  "
      ]
     },
     "execution_count": 30,
     "metadata": {},
     "output_type": "execute_result"
    }
   ],
   "source": [
    "segmented_rfm.head()"
   ]
  },
  {
   "cell_type": "code",
   "execution_count": null,
   "metadata": {},
   "outputs": [],
   "source": []
  },
  {
   "cell_type": "code",
   "execution_count": 31,
   "metadata": {},
   "outputs": [],
   "source": [
    "from sklearn.model_selection import train_test_split"
   ]
  },
  {
   "cell_type": "code",
   "execution_count": 32,
   "metadata": {},
   "outputs": [],
   "source": [
    "X = segmented_rfm[['monetary_value', 'frequency', 'recency']]\n",
    "y = segmented_rfm['profitable']"
   ]
  },
  {
   "cell_type": "code",
   "execution_count": 33,
   "metadata": {},
   "outputs": [],
   "source": [
    "X_train, X_test, y_train, y_test = train_test_split(X, y,\n",
    "                                                    stratify=y, \n",
    "                                                    test_size=0.25)"
   ]
  },
  {
   "cell_type": "code",
   "execution_count": 34,
   "metadata": {},
   "outputs": [
    {
     "data": {
      "text/plain": [
       "['monetary_value', 'frequency', 'recency']"
      ]
     },
     "execution_count": 34,
     "metadata": {},
     "output_type": "execute_result"
    }
   ],
   "source": [
    "list(X_train.columns)"
   ]
  },
  {
   "cell_type": "code",
   "execution_count": null,
   "metadata": {},
   "outputs": [],
   "source": []
  },
  {
   "cell_type": "code",
   "execution_count": 35,
   "metadata": {},
   "outputs": [],
   "source": [
    "from sklearn.tree import DecisionTreeClassifier\n",
    "from sklearn.metrics import accuracy_score"
   ]
  },
  {
   "cell_type": "code",
   "execution_count": 36,
   "metadata": {},
   "outputs": [
    {
     "name": "stdout",
     "output_type": "stream",
     "text": [
      "Shape of training data : (37477, 3)\n",
      "Shape of testing data : (12493, 3)\n"
     ]
    }
   ],
   "source": [
    "# shape of the dataset\n",
    "print('Shape of training data :',X_train.shape)\n",
    "print('Shape of testing data :',X_test.shape)"
   ]
  },
  {
   "cell_type": "code",
   "execution_count": 37,
   "metadata": {},
   "outputs": [],
   "source": [
    "model = DecisionTreeClassifier()\n"
   ]
  },
  {
   "cell_type": "code",
   "execution_count": 38,
   "metadata": {},
   "outputs": [
    {
     "data": {
      "text/plain": [
       "DecisionTreeClassifier(class_weight=None, criterion='gini', max_depth=None,\n",
       "                       max_features=None, max_leaf_nodes=None,\n",
       "                       min_impurity_decrease=0.0, min_impurity_split=None,\n",
       "                       min_samples_leaf=1, min_samples_split=2,\n",
       "                       min_weight_fraction_leaf=0.0, presort=False,\n",
       "                       random_state=None, splitter='best')"
      ]
     },
     "execution_count": 38,
     "metadata": {},
     "output_type": "execute_result"
    }
   ],
   "source": [
    "model.fit(X_train,y_train)"
   ]
  },
  {
   "cell_type": "code",
   "execution_count": 39,
   "metadata": {},
   "outputs": [
    {
     "name": "stdout",
     "output_type": "stream",
     "text": [
      "Depth of the Decision Tree : 4\n"
     ]
    }
   ],
   "source": [
    "print('Depth of the Decision Tree :', model.get_depth())"
   ]
  },
  {
   "cell_type": "code",
   "execution_count": 40,
   "metadata": {},
   "outputs": [],
   "source": [
    "predict_train = model.predict(X_train)"
   ]
  },
  {
   "cell_type": "code",
   "execution_count": 41,
   "metadata": {},
   "outputs": [
    {
     "name": "stdout",
     "output_type": "stream",
     "text": [
      "Target on train data [0 0 0 ... 0 0 0]\n"
     ]
    }
   ],
   "source": [
    "print('Target on train data',predict_train) "
   ]
  },
  {
   "cell_type": "code",
   "execution_count": 42,
   "metadata": {},
   "outputs": [
    {
     "name": "stdout",
     "output_type": "stream",
     "text": [
      "accuracy_score on train dataset :  1.0\n"
     ]
    }
   ],
   "source": [
    "accuracy_train = accuracy_score(y_train,predict_train)\n",
    "print('accuracy_score on train dataset : ', accuracy_train)"
   ]
  },
  {
   "cell_type": "code",
   "execution_count": 43,
   "metadata": {},
   "outputs": [
    {
     "name": "stdout",
     "output_type": "stream",
     "text": [
      "Target on test data [0 0 0 ... 0 0 0]\n"
     ]
    }
   ],
   "source": [
    "predict_test = model.predict(X_test)\n",
    "print('Target on test data',predict_test) "
   ]
  },
  {
   "cell_type": "code",
   "execution_count": 44,
   "metadata": {},
   "outputs": [
    {
     "name": "stdout",
     "output_type": "stream",
     "text": [
      "accuracy_score on test dataset :  1.0\n"
     ]
    }
   ],
   "source": [
    "accuracy_test = accuracy_score(y_test,predict_test)\n",
    "print('accuracy_score on test dataset : ', accuracy_test)"
   ]
  },
  {
   "cell_type": "code",
   "execution_count": 45,
   "metadata": {},
   "outputs": [
    {
     "name": "stderr",
     "output_type": "stream",
     "text": [
      "/home/crayondata.com/sundararaman/venv/lib/python3.6/site-packages/sklearn/externals/six.py:31: DeprecationWarning: The module is deprecated in version 0.21 and will be removed in version 0.23 since we've dropped support for Python 2.7. Please rely on the official version of six (https://pypi.org/project/six/).\n",
      "  \"(https://pypi.org/project/six/).\", DeprecationWarning)\n"
     ]
    }
   ],
   "source": [
    "from sklearn.externals.six import StringIO  \n",
    "from IPython.display import Image  \n",
    "from sklearn.tree import export_graphviz\n",
    "import pydotplus"
   ]
  },
  {
   "cell_type": "code",
   "execution_count": null,
   "metadata": {},
   "outputs": [],
   "source": []
  },
  {
   "cell_type": "code",
   "execution_count": 46,
   "metadata": {},
   "outputs": [],
   "source": [
    "dot_data = StringIO()"
   ]
  },
  {
   "cell_type": "code",
   "execution_count": 47,
   "metadata": {},
   "outputs": [],
   "source": [
    "dot_data = export_graphviz(model, out_file=None,  \n",
    "                filled=True, rounded=True,\n",
    "                special_characters=True,\n",
    "                proportion = False, precision = 2,\n",
    "                feature_names=list(X_train.columns))"
   ]
  },
  {
   "cell_type": "code",
   "execution_count": 48,
   "metadata": {},
   "outputs": [
    {
     "name": "stdout",
     "output_type": "stream",
     "text": [
      "digraph Tree {\n",
      "node [shape=box, style=\"filled, rounded\", color=\"black\", fontname=helvetica] ;\n",
      "edge [fontname=helvetica] ;\n",
      "0 [label=<monetary_value &le; 3375.5<br/>gini = 0.28<br/>samples = 37477<br/>value = [31297, 6180]>, fillcolor=\"#ea9a60\"] ;\n",
      "1 [label=<gini = 0.0<br/>samples = 28086<br/>value = [28086, 0]>, fillcolor=\"#e58139\"] ;\n",
      "0 -> 1 [labeldistance=2.5, labelangle=45, headlabel=\"True\"] ;\n",
      "2 [label=<frequency &le; 18.5<br/>gini = 0.45<br/>samples = 9391<br/>value = [3211, 6180]>, fillcolor=\"#a0d0f3\"] ;\n",
      "0 -> 2 [labeldistance=2.5, labelangle=-45, headlabel=\"False\"] ;\n",
      "3 [label=<recency &le; 990.5<br/>gini = 0.3<br/>samples = 3178<br/>value = [2601, 577]>, fillcolor=\"#eb9d65\"] ;\n",
      "2 -> 3 ;\n",
      "4 [label=<gini = 0.0<br/>samples = 2182<br/>value = [2182, 0]>, fillcolor=\"#e58139\"] ;\n",
      "3 -> 4 ;\n",
      "5 [label=<frequency &le; 14.5<br/>gini = 0.49<br/>samples = 996<br/>value = [419, 577]>, fillcolor=\"#c9e4f8\"] ;\n",
      "3 -> 5 ;\n",
      "6 [label=<gini = 0.0<br/>samples = 577<br/>value = [0, 577]>, fillcolor=\"#399de5\"] ;\n",
      "5 -> 6 ;\n",
      "7 [label=<gini = 0.0<br/>samples = 419<br/>value = [419, 0]>, fillcolor=\"#e58139\"] ;\n",
      "5 -> 7 ;\n",
      "8 [label=<recency &le; 990.5<br/>gini = 0.18<br/>samples = 6213<br/>value = [610, 5603]>, fillcolor=\"#4fa8e8\"] ;\n",
      "2 -> 8 ;\n",
      "9 [label=<gini = 0.0<br/>samples = 5603<br/>value = [0, 5603]>, fillcolor=\"#399de5\"] ;\n",
      "8 -> 9 ;\n",
      "10 [label=<gini = 0.0<br/>samples = 610<br/>value = [610, 0]>, fillcolor=\"#e58139\"] ;\n",
      "8 -> 10 ;\n",
      "}\n"
     ]
    }
   ],
   "source": [
    "print(dot_data)"
   ]
  },
  {
   "cell_type": "code",
   "execution_count": 49,
   "metadata": {},
   "outputs": [
    {
     "data": {
      "image/png": "[encoded data removed]",
      "text/plain": [
       "<IPython.core.display.Image object>"
      ]
     },
     "execution_count": 49,
     "metadata": {},
     "output_type": "execute_result"
    }
   ],
   "source": [
    "# graph = pydotplus.graph_from_dot_data(dot_data.getvalue())\n",
    "graph = pydotplus.graph_from_dot_data(dot_data)\n",
    "Image(graph.create_png())"
   ]
  },
  {
   "cell_type": "code",
   "execution_count": null,
   "metadata": {},
   "outputs": [],
   "source": []
  }
 ],
 "metadata": {
  "kernelspec": {
   "display_name": "Python 3",
   "language": "python",
   "name": "python3"
  },
  "language_info": {
   "codemirror_mode": {
    "name": "ipython",
    "version": 3
   },
   "file_extension": ".py",
   "mimetype": "text/x-python",
   "name": "python",
   "nbconvert_exporter": "python",
   "pygments_lexer": "ipython3",
   "version": "3.6.8"
  }
 },
 "nbformat": 4,
 "nbformat_minor": 2
}
